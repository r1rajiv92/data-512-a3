{
 "cells": [
  {
   "cell_type": "markdown",
   "metadata": {},
   "source": [
    "### Problem Statement\n"
   ]
  },
  {
   "cell_type": "markdown",
   "metadata": {},
   "source": [
    "In this project, I would like to get a better understanding of the crime patterns in different areas withing the city of Seattle. In particular, I would like to understand how crime patterns have evolved over time from 2010 to 2017."
   ]
  },
  {
   "cell_type": "markdown",
   "metadata": {},
   "source": [
    "### Motivation"
   ]
  },
  {
   "cell_type": "markdown",
   "metadata": {},
   "source": [
    "Based on my limited stay in Seattle (just about a year) and knowledge, I have a feeling that crime rates have increased over the last 6 or so months. I believe getting a better undestanding of the crime patterns and how these patterns are evolving in the city of seattle, the policy departments can take the necessary steps to curb the crime rates. These could include - adding more patrols to certain district in Seattle, reoganize the police department locations across the city, recruit more officers etc."
   ]
  },
  {
   "cell_type": "markdown",
   "metadata": {},
   "source": [
    "### Research Questions and Hypothesis"
   ]
  },
  {
   "cell_type": "markdown",
   "metadata": {},
   "source": [
    "RQ1 - 1. Have the crime rates actually increased from 2010 to 2017?   \n",
    "Hypothesis: I have a feeling that crime rates have significantly increased from 2010 to 2017. My reasoning for this hypothesis is I have started reading a lot more crime related news. My hypothesis could be completely incorrect if the crime rates were actually the same over the years but only recently have they been reported in the news."
   ]
  },
  {
   "cell_type": "markdown",
   "metadata": {},
   "source": [
    "RQ2. Which type of crimes most frequently occur in 2017? Were they the most frequent in 2010?  \n",
    "Hypothesis: I don't have a good hypothesis for this. It could be drug consumption or burglary or anything."
   ]
  },
  {
   "cell_type": "markdown",
   "metadata": {},
   "source": [
    "RQ3. Which areas in Seattle are most crime prone? Was the same area crime prone in 2010?  \n",
    "Hypothesis: I think capitol hill and a few areas around the campus are crime prone. My hypothesis for capitol hill is because there are a lot of bars and pubs in the vicinity and people under alcohol consumption can commit crime (drink and drive, brawls etc)."
   ]
  },
  {
   "cell_type": "markdown",
   "metadata": {},
   "source": [
    "RQ4. What kind of crimes usually take places near college, parks, viewpoints in the city, children play areas etc?  \n",
    "Hypothesis: I think drug consumption will be common crime near college and park areas. Knowing the type of crime taking place in certain areas can certainly help the police take appropriate measures. "
   ]
  },
  {
   "cell_type": "markdown",
   "metadata": {},
   "source": [
    "RQ5. How have these crime committed near these city areas progressed over the last 7 years? Eg. Has drug consumption increased/decreased near college/campus limits? Has burglary increased/decreased near residential areas?  \n",
    "I think this will particularly help in understanding how certain crime types have advanced over the years. If we see an increase in crime rates for a particular type of crime in an area in the city, then this provides the police with a lot more information as they can expect that the crime rates to further increase in the future and they can act immediately to curb them\n"
   ]
  },
  {
   "cell_type": "markdown",
   "metadata": {},
   "source": [
    "I have listed a few research questions that come to mind but as I start working on the dataset, I believe I will have more questions to answer"
   ]
  },
  {
   "cell_type": "markdown",
   "metadata": {},
   "source": [
    "### Datasets"
   ]
  },
  {
   "cell_type": "markdown",
   "metadata": {},
   "source": [
    "Seattle Policy department 911 responses - This datasets contains all the responses to 911 calls. It contains locations information, lattitude, longitude, type of crime, which district/sector the crime was committed, how was resolved etc. I use this dataset as a proxy to measure the crime within an area in Seattle.\n",
    "     \n",
    "Seattle Neighborhood Map - A comprehensive collection of dozens of city “features” (schools, parks, landmarks, hospitals, museums and libraries), including their street address and lat/long coordinates. "
   ]
  },
  {
   "cell_type": "markdown",
   "metadata": {},
   "source": [
    "### License Information"
   ]
  },
  {
   "cell_type": "markdown",
   "metadata": {},
   "source": [
    "The dataset mentioned above are governed by the CC0 1.0 Universal licence - https://creativecommons.org/publicdomain/zero/1.0/  \n",
    "Brief summary about the Licence - 'The person who associated a work with this deed has dedicated the work to the public domain by waiving all of his or her rights to the work worldwide under copyright law, including all related and neighboring rights, to the extent allowed by law. You can copy, modify, distribute and perform the work, even for commercial purposes, all without asking permission'"
   ]
  },
  {
   "cell_type": "markdown",
   "metadata": {},
   "source": [
    "### Methodology"
   ]
  },
  {
   "cell_type": "markdown",
   "metadata": {},
   "source": [
    "Exploratory Analysis - I will start off by exploring the datasets to get a much better understanding of the attributes involved. Calculate group statistics like mean, variance etc to estimate the distribution"
   ]
  },
  {
   "cell_type": "markdown",
   "metadata": {},
   "source": [
    "Visualization - Since this project involves working with crime rates in different parts of the city, I believe a heat map like visualization of the city of seattle will help visualize the crime rates across the differnt locations of the city. I think generating a heat map like visualization might be tricky but  I can leverage Google Maps visualization APIs for this purpose."
   ]
  },
  {
   "cell_type": "markdown",
   "metadata": {},
   "source": [
    "Time Series Prediction: Given a timestamp, predict crime rate (number of crimes) in a district of seattle given historical crime rates for the district. This is nothing but a time series prediction problem and if I can solve it with reasonable accuracy, it will be extremely useful for the police department as they can predict the number of crimes that might take place in a locality given the timestamp. However, I have qualms about this approach as I think we might not have enough data to make prediction but it is definitely worth an effort"
   ]
  },
  {
   "cell_type": "markdown",
   "metadata": {},
   "source": [
    "### Limitations and Risks"
   ]
  },
  {
   "cell_type": "markdown",
   "metadata": {},
   "source": [
    "For this project, I have used the 911 incident calls as a proxy for crime rates in the city. Therefore, the analysis\n",
    "will be biased to this dataset and it might be possible that there is quite a lot crime committed in the city but 911 was never called in those situations or the police is not even aware of such crimes. \n",
    "\n",
    "Also, the analysis is based on the accuracy of 911 incidents from data.gov website. If there were some logging issues with the data, the results obtained may not be accurate and it might be very difficult to validate the dataset.\n"
   ]
  }
 ],
 "metadata": {
  "kernelspec": {
   "display_name": "Python 3",
   "language": "python",
   "name": "python3"
  },
  "language_info": {
   "codemirror_mode": {
    "name": "ipython",
    "version": 3
   },
   "file_extension": ".py",
   "mimetype": "text/x-python",
   "name": "python",
   "nbconvert_exporter": "python",
   "pygments_lexer": "ipython3",
   "version": "3.6.2"
  }
 },
 "nbformat": 4,
 "nbformat_minor": 2
}
